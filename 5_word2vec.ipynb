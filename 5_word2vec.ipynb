{
 "cells": [
  {
   "cell_type": "markdown",
   "metadata": {
    "colab_type": "text",
    "id": "D7tqLMoKF6uq"
   },
   "source": [
    "Deep Learning\n",
    "=============\n",
    "\n",
    "Assignment 5\n",
    "------------\n",
    "\n",
    "The goal of this assignment is to train a skip-gram model over [Text8](http://mattmahoney.net/dc/textdata) data."
   ]
  },
  {
   "cell_type": "code",
   "execution_count": 1,
   "metadata": {
    "cellView": "both",
    "colab": {
     "autoexec": {
      "startup": false,
      "wait_interval": 0
     }
    },
    "colab_type": "code",
    "collapsed": true,
    "id": "0K1ZyLn04QZf"
   },
   "outputs": [],
   "source": [
    "# These are all the modules we'll be using later. Make sure you can import them\n",
    "# before proceeding further.\n",
    "import collections\n",
    "import math\n",
    "import numpy as np\n",
    "import os\n",
    "import random\n",
    "import tensorflow as tf\n",
    "import urllib\n",
    "import zipfile\n",
    "from matplotlib import pylab\n",
    "from sklearn.manifold import TSNE"
   ]
  },
  {
   "cell_type": "markdown",
   "metadata": {
    "colab_type": "text",
    "id": "aCjPJE944bkV"
   },
   "source": [
    "Download the data from the source website if necessary."
   ]
  },
  {
   "cell_type": "code",
   "execution_count": 2,
   "metadata": {
    "cellView": "both",
    "colab": {
     "autoexec": {
      "startup": false,
      "wait_interval": 0
     },
     "output_extras": [
      {
       "item_id": 1
      }
     ]
    },
    "colab_type": "code",
    "collapsed": false,
    "executionInfo": {
     "elapsed": 14640,
     "status": "ok",
     "timestamp": 1445964482948,
     "user": {
      "color": "#1FA15D",
      "displayName": "Vincent Vanhoucke",
      "isAnonymous": false,
      "isMe": true,
      "permissionId": "05076109866853157986",
      "photoUrl": "//lh6.googleusercontent.com/-cCJa7dTDcgQ/AAAAAAAAAAI/AAAAAAAACgw/r2EZ_8oYer4/s50-c-k-no/photo.jpg",
      "sessionId": "2f1ffade4c9f20de",
      "userId": "102167687554210253930"
     },
     "user_tz": 420
    },
    "id": "RJ-o3UBUFtCw",
    "outputId": "c4ec222c-80b5-4298-e635-93ca9f79c3b7"
   },
   "outputs": [
    {
     "name": "stdout",
     "output_type": "stream",
     "text": [
      "Found and verified text8.zip\n"
     ]
    }
   ],
   "source": [
    "url = 'http://mattmahoney.net/dc/'\n",
    "\n",
    "def maybe_download(filename, expected_bytes):\n",
    "  \"\"\"Download a file if not present, and make sure it's the right size.\"\"\"\n",
    "  if not os.path.exists(filename):\n",
    "    filename, _ = urllib.urlretrieve(url + filename, filename)\n",
    "  statinfo = os.stat(filename)\n",
    "  if statinfo.st_size == expected_bytes:\n",
    "    print 'Found and verified', filename\n",
    "  else:\n",
    "    print statinfo.st_size\n",
    "    raise Exception(\n",
    "      'Failed to verify ' + filename + '. Can you get to it with a browser?')\n",
    "  return filename\n",
    "\n",
    "filename = maybe_download('text8.zip', 31344016)"
   ]
  },
  {
   "cell_type": "markdown",
   "metadata": {
    "colab_type": "text",
    "id": "Zqz3XiqI4mZT"
   },
   "source": [
    "Read the data into a string."
   ]
  },
  {
   "cell_type": "code",
   "execution_count": 3,
   "metadata": {
    "cellView": "both",
    "colab": {
     "autoexec": {
      "startup": false,
      "wait_interval": 0
     },
     "output_extras": [
      {
       "item_id": 1
      }
     ]
    },
    "colab_type": "code",
    "collapsed": false,
    "executionInfo": {
     "elapsed": 28844,
     "status": "ok",
     "timestamp": 1445964497165,
     "user": {
      "color": "#1FA15D",
      "displayName": "Vincent Vanhoucke",
      "isAnonymous": false,
      "isMe": true,
      "permissionId": "05076109866853157986",
      "photoUrl": "//lh6.googleusercontent.com/-cCJa7dTDcgQ/AAAAAAAAAAI/AAAAAAAACgw/r2EZ_8oYer4/s50-c-k-no/photo.jpg",
      "sessionId": "2f1ffade4c9f20de",
      "userId": "102167687554210253930"
     },
     "user_tz": 420
    },
    "id": "Mvf09fjugFU_",
    "outputId": "e3a928b4-1645-4fe8-be17-fcf47de5716d"
   },
   "outputs": [
    {
     "name": "stdout",
     "output_type": "stream",
     "text": [
      "Data size 17005207\n"
     ]
    }
   ],
   "source": [
    "def read_data(filename):\n",
    "  f = zipfile.ZipFile(filename)\n",
    "  for name in f.namelist():\n",
    "    return f.read(name).split()\n",
    "  f.close()\n",
    "  \n",
    "words = read_data(filename)\n",
    "print 'Data size', len(words)"
   ]
  },
  {
   "cell_type": "markdown",
   "metadata": {
    "colab_type": "text",
    "id": "Zdw6i4F8glpp"
   },
   "source": [
    "Build the dictionary and replace rare words with UNK token."
   ]
  },
  {
   "cell_type": "code",
   "execution_count": 4,
   "metadata": {
    "cellView": "both",
    "colab": {
     "autoexec": {
      "startup": false,
      "wait_interval": 0
     },
     "output_extras": [
      {
       "item_id": 1
      }
     ]
    },
    "colab_type": "code",
    "collapsed": false,
    "executionInfo": {
     "elapsed": 28849,
     "status": "ok",
     "timestamp": 1445964497178,
     "user": {
      "color": "#1FA15D",
      "displayName": "Vincent Vanhoucke",
      "isAnonymous": false,
      "isMe": true,
      "permissionId": "05076109866853157986",
      "photoUrl": "//lh6.googleusercontent.com/-cCJa7dTDcgQ/AAAAAAAAAAI/AAAAAAAACgw/r2EZ_8oYer4/s50-c-k-no/photo.jpg",
      "sessionId": "2f1ffade4c9f20de",
      "userId": "102167687554210253930"
     },
     "user_tz": 420
    },
    "id": "gAL1EECXeZsD",
    "outputId": "3fb4ecd1-df67-44b6-a2dc-2291730970b2"
   },
   "outputs": [
    {
     "name": "stdout",
     "output_type": "stream",
     "text": [
      "Most common words (+UNK) [['UNK', 418391], ('the', 1061396), ('of', 593677), ('and', 416629), ('one', 411764)]\n",
      "Sample data [5239, 3084, 12, 6, 195, 2, 3137, 46, 59, 156]\n"
     ]
    }
   ],
   "source": [
    "vocabulary_size = 50000\n",
    "\n",
    "def build_dataset(words):\n",
    "  count = [['UNK', -1]]\n",
    "  count.extend(collections.Counter(words).most_common(vocabulary_size - 1))\n",
    "  dictionary = dict()\n",
    "  for word, _ in count:\n",
    "    dictionary[word] = len(dictionary)\n",
    "  data = list()\n",
    "  unk_count = 0\n",
    "  for word in words:\n",
    "    if word in dictionary:\n",
    "      index = dictionary[word]\n",
    "    else:\n",
    "      index = 0  # dictionary['UNK']\n",
    "      unk_count = unk_count + 1\n",
    "    data.append(index)\n",
    "  count[0][1] = unk_count\n",
    "  reverse_dictionary = dict(zip(dictionary.values(), dictionary.keys())) \n",
    "  return data, count, dictionary, reverse_dictionary\n",
    "\n",
    "data, count, dictionary, reverse_dictionary = build_dataset(words)\n",
    "print 'Most common words (+UNK)', count[:5]\n",
    "print 'Sample data', data[:10]\n",
    "del words  # Hint to reduce memory."
   ]
  },
  {
   "cell_type": "code",
   "execution_count": 5,
   "metadata": {
    "collapsed": false
   },
   "outputs": [
    {
     "name": "stdout",
     "output_type": "stream",
     "text": [
      "anarchism\n"
     ]
    }
   ],
   "source": [
    "print reverse_dictionary[5239]"
   ]
  },
  {
   "cell_type": "markdown",
   "metadata": {
    "colab_type": "text",
    "id": "lFwoyygOmWsL"
   },
   "source": [
    "Function to generate a training batch for the skip-gram model."
   ]
  },
  {
   "cell_type": "code",
   "execution_count": 12,
   "metadata": {
    "cellView": "both",
    "colab": {
     "autoexec": {
      "startup": false,
      "wait_interval": 0
     },
     "output_extras": [
      {
       "item_id": 1
      }
     ]
    },
    "colab_type": "code",
    "collapsed": false,
    "executionInfo": {
     "elapsed": 113,
     "status": "ok",
     "timestamp": 1445964901989,
     "user": {
      "color": "#1FA15D",
      "displayName": "Vincent Vanhoucke",
      "isAnonymous": false,
      "isMe": true,
      "permissionId": "05076109866853157986",
      "photoUrl": "//lh6.googleusercontent.com/-cCJa7dTDcgQ/AAAAAAAAAAI/AAAAAAAACgw/r2EZ_8oYer4/s50-c-k-no/photo.jpg",
      "sessionId": "2f1ffade4c9f20de",
      "userId": "102167687554210253930"
     },
     "user_tz": 420
    },
    "id": "w9APjA-zmfjV",
    "outputId": "67cccb02-cdaf-4e47-d489-43bcc8d57bb8"
   },
   "outputs": [
    {
     "name": "stdout",
     "output_type": "stream",
     "text": [
      "7\n",
      "3084 -> 5239\n",
      "originated -> anarchism\n",
      "3084 -> 12\n",
      "originated -> as\n",
      "12 -> 6\n",
      "as -> a\n",
      "12 -> 3084\n",
      "as -> originated\n",
      "6 -> 195\n",
      "a -> term\n",
      "6 -> 12\n",
      "a -> as\n",
      "195 -> 6\n",
      "term -> a\n",
      "195 -> 2\n",
      "term -> of\n"
     ]
    }
   ],
   "source": [
    "data_index = 0\n",
    "\n",
    "def generate_batch(batch_size, num_skips, skip_window):\n",
    "  global data_index\n",
    "  assert batch_size % num_skips == 0\n",
    "  assert num_skips <= 2 * skip_window\n",
    "  batch = np.ndarray(shape=(batch_size), dtype=np.int32)\n",
    "  labels = np.ndarray(shape=(batch_size, 1), dtype=np.int32)\n",
    "  span = 2 * skip_window + 1 # [ skip_window target skip_window ]\n",
    "  buffer = collections.deque(maxlen=span)\n",
    "  for _ in range(span):\n",
    "    buffer.append(data[data_index])\n",
    "    data_index = (data_index + 1) % len(data)\n",
    "  for i in range(batch_size / num_skips):\n",
    "    target = skip_window  # target label at the center of the buffer\n",
    "    targets_to_avoid = [ skip_window ]\n",
    "    for j in range(num_skips):\n",
    "      while target in targets_to_avoid:\n",
    "        target = random.randint(0, span - 1)\n",
    "      targets_to_avoid.append(target)\n",
    "      batch[i * num_skips + j] = buffer[skip_window]\n",
    "      labels[i * num_skips + j, 0] = buffer[target]\n",
    "    buffer.append(data[data_index])\n",
    "    data_index = (data_index + 1) % len(data)\n",
    "  return batch, labels\n",
    "\n",
    "batch, labels = generate_batch(batch_size=8, num_skips=2, skip_window=1)\n",
    "print data_index\n",
    "for i in range(8):\n",
    "  print batch[i], '->', labels[i, 0]\n",
    "  print reverse_dictionary[batch[i]], '->', reverse_dictionary[labels[i, 0]]"
   ]
  },
  {
   "cell_type": "markdown",
   "metadata": {
    "colab_type": "text",
    "id": "Ofd1MbBuwiva"
   },
   "source": [
    "Train a skip-gram model."
   ]
  },
  {
   "cell_type": "code",
   "execution_count": 8,
   "metadata": {
    "cellView": "both",
    "colab": {
     "autoexec": {
      "startup": false,
      "wait_interval": 0
     }
    },
    "colab_type": "code",
    "collapsed": true,
    "id": "8pQKsV4Vwlzy"
   },
   "outputs": [],
   "source": [
    "batch_size = 128\n",
    "embedding_size = 128 # Dimension of the embedding vector.\n",
    "skip_window = 1 # How many words to consider left and right.\n",
    "num_skips = 2 # How many times to reuse an input to generate a label.\n",
    "# We pick a random validation set to sample nearest neighbors. here we limit the\n",
    "# validation samples to the words that have a low numeric ID, which by\n",
    "# construction are also the most frequent. \n",
    "valid_size = 16 # Random set of words to evaluate similarity on.\n",
    "valid_window = 100 # Only pick dev samples in the head of the distribution.\n",
    "valid_examples = np.array(random.sample(xrange(valid_window), valid_size))\n",
    "num_sampled = 64 # Number of negative examples to sample.\n",
    "\n",
    "graph = tf.Graph()\n",
    "\n",
    "with graph.as_default():\n",
    "\n",
    "  # Input data.\n",
    "  train_dataset = tf.placeholder(tf.int32, shape=[batch_size])\n",
    "  train_labels = tf.placeholder(tf.int32, shape=[batch_size, 1])\n",
    "  valid_dataset = tf.constant(valid_examples, dtype=tf.int32)\n",
    "  \n",
    "  # Variables.\n",
    "  embeddings = tf.Variable(\n",
    "    tf.random_uniform([vocabulary_size, embedding_size], -1.0, 1.0))\n",
    "  softmax_weights = tf.Variable(\n",
    "    tf.truncated_normal([vocabulary_size, embedding_size],\n",
    "                         stddev=1.0 / math.sqrt(embedding_size)))\n",
    "  softmax_biases = tf.Variable(tf.zeros([vocabulary_size]))\n",
    "  \n",
    "  # Model.\n",
    "  # Look up embeddings for inputs.\n",
    "  embed = tf.nn.embedding_lookup(embeddings, train_dataset)\n",
    "  # Compute the softmax loss, using a sample of the negative labels each time.\n",
    "  loss = tf.reduce_mean(\n",
    "    tf.nn.sampled_softmax_loss(softmax_weights, softmax_biases, embed,\n",
    "                               train_labels, num_sampled, vocabulary_size))\n",
    "\n",
    "  # Optimizer.\n",
    "  optimizer = tf.train.AdagradOptimizer(1.0).minimize(loss)\n",
    "  \n",
    "  # Compute the similarity between minibatch examples and all embeddings.\n",
    "  # We use the cosine distance:\n",
    "  norm = tf.sqrt(tf.reduce_sum(tf.square(embeddings), 1, keep_dims=True))\n",
    "  normalized_embeddings = embeddings / norm\n",
    "  valid_embeddings = tf.nn.embedding_lookup(\n",
    "    normalized_embeddings, valid_dataset)\n",
    "  similarity = tf.matmul(valid_embeddings, tf.transpose(normalized_embeddings))"
   ]
  },
  {
   "cell_type": "code",
   "execution_count": 9,
   "metadata": {
    "cellView": "both",
    "colab": {
     "autoexec": {
      "startup": false,
      "wait_interval": 0
     },
     "output_extras": [
      {
       "item_id": 23
      },
      {
       "item_id": 48
      },
      {
       "item_id": 61
      }
     ]
    },
    "colab_type": "code",
    "collapsed": false,
    "executionInfo": {
     "elapsed": 436189,
     "status": "ok",
     "timestamp": 1445965429787,
     "user": {
      "color": "#1FA15D",
      "displayName": "Vincent Vanhoucke",
      "isAnonymous": false,
      "isMe": true,
      "permissionId": "05076109866853157986",
      "photoUrl": "//lh6.googleusercontent.com/-cCJa7dTDcgQ/AAAAAAAAAAI/AAAAAAAACgw/r2EZ_8oYer4/s50-c-k-no/photo.jpg",
      "sessionId": "2f1ffade4c9f20de",
      "userId": "102167687554210253930"
     },
     "user_tz": 420
    },
    "id": "1bQFGceBxrWW",
    "outputId": "5ebd6d9a-33c6-4bcd-bf6d-252b0b6055e4"
   },
   "outputs": [
    {
     "name": "stdout",
     "output_type": "stream",
     "text": [
      "Initialized\n",
      "Average loss at step 0 : 8.30866718292\n",
      "Nearest to world: instead, deborah, resupply, higgs, lebanon, louvain, stereotype, screams,\n",
      "Nearest to can: nodules, pacts, durango, salt, introduction, campbell, organising, sis,\n",
      "Nearest to see: cool, hikers, anatomically, corresponding, lans, buckyballs, fluids, deposits,\n",
      "Nearest to only: perpetrated, kochi, province, enslavement, matching, katzenjammer, unresolved, patrician,\n",
      "Nearest to s: rebellious, watch, heuristics, marco, monolith, gbase, theatre, livres,\n",
      "Nearest to five: tender, fashioned, plaintexts, confirmed, aldosterone, goals, adjunct, carlton,\n",
      "Nearest to no: simcity, dominique, washes, priority, armas, ideological, aztec, selectively,\n",
      "Nearest to will: spurring, bans, depict, laborers, birmingham, ishaq, romero, rampage,\n",
      "Nearest to or: electric, governed, skilled, leq, anne, malarial, evaluated, nkrumah,\n",
      "Nearest to in: autos, forecasting, tillich, reisman, longshanks, anabaptist, jagiellonian, evolutionist,\n",
      "Nearest to after: workday, almonds, showing, fragmented, neurotransmitter, nicopolis, drying, dili,\n",
      "Nearest to such: kelsey, torturing, crowell, livejournal, cathars, agate, cebus, hoosiers,\n",
      "Nearest to into: sheltered, versace, sake, questionnaire, burlesque, miriam, jon, kindly,\n",
      "Nearest to all: jimmy, singapore, authenticated, stunted, pointers, forcefully, sichuan, nanny,\n",
      "Nearest to th: eschew, etiology, multicast, yaqub, vijay, steelers, fledged, copyleft,\n",
      "Nearest to i: fuerza, strengths, batsmen, zal, postman, praising, wien, shortfalls,\n",
      "Average loss at step 2000 : 4.35305307055\n",
      "Average loss at step 4000 : 3.85986296532\n",
      "Average loss at step 6000 : 3.79172398317\n",
      "Average loss at step 8000 : 3.68316008937\n",
      "Average loss at step 10000 : 3.61253893495\n",
      "Nearest to world: higgs, resupply, miraculous, save, louvain, quadra, monarchic, mourners,\n",
      "Nearest to can: may, tonic, should, will, handwriting, ptc, could, to,\n",
      "Nearest to see: blight, corresponding, cool, udp, bluish, deposits, looping, timetables,\n",
      "Nearest to only: perpetrated, unresolved, damme, enslavement, burgos, katzenjammer, ansbach, fraction,\n",
      "Nearest to s: his, belizean, caucasians, monolith, or, convention, contribute, rebuilding,\n",
      "Nearest to five: eight, six, four, seven, two, three, nine, zero,\n",
      "Nearest to no: simcity, armas, dumpster, wound, it, also, afforded, unproductive,\n",
      "Nearest to will: can, litigated, gentlemen, candid, passenger, prescribed, graz, civic,\n",
      "Nearest to or: and, jaeger, electric, reichstag, improvised, gas, s, song,\n",
      "Nearest to in: of, from, at, with, on, ablative, urging, for,\n",
      "Nearest to after: during, gelre, throughout, workday, for, announcements, lj, fanon,\n",
      "Nearest to such: torturing, vez, kelsey, sanfl, cryptanalyst, mejid, awarded, ketamine,\n",
      "Nearest to into: with, questionnaire, on, from, sturluson, danse, sheltered, settings,\n",
      "Nearest to all: jimmy, forcefully, yates, ovarian, shahi, tarsus, many, tongs,\n",
      "Nearest to th: eschew, seven, three, gavrilo, steelers, lincoln, four, hajj,\n",
      "Nearest to i: fuerza, shortfalls, strengths, batsmen, zal, goebbels, mcgill, never,\n",
      "Average loss at step 12000 : 3.60493864226\n",
      "Average loss at step 14000 : 3.56356831896\n",
      "Average loss at step 16000 : 3.40955653897\n",
      "Average loss at step 18000 : 3.45810779816\n",
      "Average loss at step 20000 : 3.53662569034\n",
      "Nearest to world: save, higgs, miraculous, resupply, loathed, stereotype, iarc, realising,\n",
      "Nearest to can: may, would, should, could, will, must, might, redrawing,\n",
      "Nearest to see: corresponding, hominids, looping, deposits, timetables, udp, nic, slovak,\n",
      "Nearest to only: perpetrated, unresolved, damme, sharman, irina, dumpster, strangelove, recur,\n",
      "Nearest to s: ontario, smalley, isbn, mohandas, norbert, pact, heim, nai,\n",
      "Nearest to five: four, seven, six, three, eight, zero, two, nine,\n",
      "Nearest to no: a, wound, tutor, innate, busby, afforded, armas, shown,\n",
      "Nearest to will: can, would, must, might, to, may, should, candid,\n",
      "Nearest to or: and, than, with, acquis, equator, but, pop, futurama,\n",
      "Nearest to in: at, from, during, and, between, on, of, within,\n",
      "Nearest to after: during, when, gelre, throughout, before, announcements, from, workday,\n",
      "Nearest to such: ketamine, kelsey, many, sanfl, feuerbach, known, hypertalk, well,\n",
      "Nearest to into: from, with, by, on, stylized, shallow, danse, circled,\n",
      "Nearest to all: many, these, some, achaeans, ovarian, several, rowboat, yates,\n",
      "Nearest to th: eschew, three, four, seven, steelers, seds, gavrilo, copyleft,\n",
      "Nearest to i: ii, fuerza, bloch, batsmen, strengths, they, shortfalls, mcgill,\n",
      "Average loss at step 22000 : 3.5015459559\n",
      "Average loss at step 24000 : 3.48904984832\n",
      "Average loss at step 26000 : 3.48196175146\n",
      "Average loss at step 28000 : 3.48188137019\n",
      "Average loss at step 30000 : 3.49962611559\n",
      "Nearest to world: save, higgs, loathed, miraculous, contest, resupply, passage, traditional,\n",
      "Nearest to can: may, would, could, will, might, should, must, cannot,\n",
      "Nearest to see: looping, corresponding, belonged, timetables, iodine, inertia, deposits, rgya,\n",
      "Nearest to only: unresolved, irina, sharman, strangelove, usually, dumpster, matching, recur,\n",
      "Nearest to s: his, heim, isbn, rennie, complicating, skeet, asroc, larkin,\n",
      "Nearest to five: four, eight, seven, six, three, zero, nine, two,\n",
      "Nearest to no: busby, wound, innate, mathias, reappears, tutor, a, periods,\n",
      "Nearest to will: would, can, may, must, could, should, might, to,\n",
      "Nearest to or: and, unless, acquis, condensed, generalized, ionosphere, ettore, glycerol,\n",
      "Nearest to in: at, during, under, within, on, from, between, and,\n",
      "Nearest to after: during, when, before, gelre, from, throughout, for, fanon,\n",
      "Nearest to such: well, these, known, ketamine, feuerbach, many, bonewits, kelsey,\n",
      "Nearest to into: from, through, suburbs, with, danse, settings, shallow, circled,\n",
      "Nearest to all: some, many, these, every, ovarian, feedstock, cinematography, several,\n",
      "Nearest to th: eschew, zero, oppositional, bc, copyleft, rothschild, farian, one,\n",
      "Nearest to i: ii, mcgill, fuerza, strengths, bloch, they, iv, gripped,\n",
      "Average loss at step 32000 : 3.49761640453\n",
      "Average loss at step 34000 : 3.49487854755\n",
      "Average loss at step 36000 : 3.45670426589\n",
      "Average loss at step 38000 : 3.29658465046\n",
      "Average loss at step 40000 : 3.4307381261\n",
      "Nearest to world: save, miraculous, higgs, passage, gee, pumps, contest, cram,\n",
      "Nearest to can: may, will, could, would, must, should, might, cannot,\n",
      "Nearest to see: looping, couldn, can, according, inertia, corresponding, aerosol, invocations,\n",
      "Nearest to only: irina, unresolved, even, not, being, usually, it, sharman,\n",
      "Nearest to s: his, reconsideration, enzymes, monolith, childbirth, skeet, forti, heim,\n",
      "Nearest to five: seven, six, four, three, eight, zero, two, nine,\n",
      "Nearest to no: busby, any, wound, mathias, innate, a, smitten, reappears,\n",
      "Nearest to will: can, would, may, could, must, might, should, to,\n",
      "Nearest to or: and, than, ubu, brennan, polypropylene, xp, rash, any,\n",
      "Nearest to in: during, of, from, at, for, zoologists, printable, within,\n",
      "Nearest to after: before, when, during, while, gelre, fanon, from, despite,\n",
      "Nearest to such: these, well, known, ketamine, perp, including, eliminating, defined,\n",
      "Nearest to into: from, through, over, suburbs, danse, cotton, between, dipoles,\n",
      "Nearest to all: many, some, ovarian, every, several, malvinas, these, cinematography,\n",
      "Nearest to th: zero, five, eschew, oppositional, klaas, three, bc, six,\n",
      "Nearest to i: ii, they, you, we, he, t, mcgill, bloch,\n",
      "Average loss at step 42000 : 3.43607660258\n",
      "Average loss at step 44000 : 3.45239526421\n",
      "Average loss at step 46000 : 3.45197677821\n",
      "Average loss at step 48000 : 3.3479202981\n",
      "Average loss at step 50000 : 3.38483160037\n",
      "Nearest to world: contest, save, miraculous, higgs, passage, spleen, impressed, stereotype,\n",
      "Nearest to can: may, could, will, would, must, might, should, cannot,\n",
      "Nearest to see: couldn, looping, universit, include, according, vegetables, inertia, korps,\n",
      "Nearest to only: irina, unresolved, usually, being, all, always, comrades, transcript,\n",
      "Nearest to s: whose, and, nai, heim, his, footnotes, although, childbirth,\n",
      "Nearest to five: four, seven, six, eight, three, zero, nine, two,\n",
      "Nearest to no: any, connected, wound, innate, a, resistors, salamander, always,\n",
      "Nearest to will: would, can, could, may, should, must, might, did,\n",
      "Nearest to or: and, than, mori, polypropylene, ubu, like, beavis, promised,\n",
      "Nearest to in: during, within, of, from, at, on, until, since,\n",
      "Nearest to after: before, when, during, while, gelre, despite, throughout, from,\n",
      "Nearest to such: known, well, these, ketamine, defined, bonewits, perp, peta,\n",
      "Nearest to into: through, from, danse, dipoles, over, cotton, suburbs, between,\n",
      "Nearest to all: many, exactly, every, beatle, contemporaneous, various, these, ovarian,\n",
      "Nearest to th: three, bc, one, bce, mph, four, eschew, rd,\n",
      "Nearest to i: ii, we, you, mcgill, they, t, iii, gripped,\n",
      "Average loss at step 52000 : 3.43677461112\n",
      "Average loss at step 54000 : 3.42326249969\n",
      "Average loss at step 56000 : 3.44040543479\n",
      "Average loss at step 58000 : 3.39330327332\n",
      "Average loss at step 60000 : 3.39239611667\n",
      "Nearest to world: contest, higgs, magnetometer, confessed, stalin, civil, save, spleen,\n",
      "Nearest to can: may, will, could, would, might, must, should, cannot,\n",
      "Nearest to see: include, but, udp, looping, universit, couldn, references, according,\n",
      "Nearest to only: irina, always, usually, first, unresolved, until, seriously, all,\n",
      "Nearest to s: heim, whose, his, norbert, wherein, isbn, footnotes, xuan,\n",
      "Nearest to five: four, six, three, eight, seven, zero, nine, two,\n",
      "Nearest to no: innate, little, any, connected, responsa, cosmo, salamander, wound,\n",
      "Nearest to will: would, can, may, could, must, should, might, did,\n",
      "Nearest to or: and, than, probe, junkers, ubu, irrealism, but, benefitted,\n",
      "Nearest to in: within, during, of, on, at, since, between, among,\n",
      "Nearest to after: before, during, when, despite, while, throughout, through, gelre,\n",
      "Nearest to such: these, known, well, many, perp, ketamine, peta, including,\n",
      "Nearest to into: through, from, over, danse, dipoles, with, cotton, between,\n",
      "Nearest to all: many, every, these, some, both, feedstock, any, contemporaneous,\n",
      "Nearest to th: five, eight, six, bce, four, bc, mph, seven,\n",
      "Nearest to i: ii, you, we, they, t, bloch, gripped, iii,\n",
      "Average loss at step 62000 : 3.24165646374\n",
      "Average loss at step 64000 : 3.25657661587\n",
      "Average loss at step 66000 : 3.40412812591\n",
      "Average loss at step 68000 : 3.39525096285\n",
      "Average loss at step 70000 : 3.35673815215\n",
      "Nearest to world: contest, stalin, higgs, reinsurance, confessed, spleen, save, country,\n",
      "Nearest to can: may, could, will, would, must, might, should, cannot,\n",
      "Nearest to see: include, but, aerosol, according, references, antonio, judy, list,\n",
      "Nearest to only: always, irina, never, expected, not, usually, seriously, ever,\n",
      "Nearest to s: whose, childbirth, nai, conservatorium, cowardice, isbn, anthropic, bestows,\n",
      "Nearest to five: four, six, seven, three, eight, nine, zero, two,\n",
      "Nearest to no: innate, little, salamander, connected, wound, there, always, responsa,\n",
      "Nearest to will: would, may, could, can, should, might, must, did,\n",
      "Nearest to or: and, misquoted, than, but, like, polypropylene, seamstress, trident,\n",
      "Nearest to in: within, during, on, to, from, for, under, at,\n",
      "Nearest to after: before, during, when, despite, while, through, following, throughout,\n",
      "Nearest to such: these, known, well, perp, many, regarded, including, defined,\n",
      "Nearest to into: through, from, danse, dipoles, between, cotton, within, phagocytosis,\n",
      "Nearest to all: many, some, every, various, any, both, contemporaneous, feedstock,\n",
      "Nearest to th: bc, bce, mph, rd, one, six, st, sulu,\n",
      "Nearest to i: ii, we, you, they, adys, g, gripped, x,\n",
      "Average loss at step 72000 : 3.36965476537\n",
      "Average loss at step 74000 : 3.34663187837\n",
      "Average loss at step 76000 : 3.30847887349\n",
      "Average loss at step 78000 : 3.35249187779\n",
      "Average loss at step 80000 : 3.37827954537\n",
      "Nearest to world: contest, stalin, spleen, millionth, borman, higgs, country, rabindranath,\n",
      "Nearest to can: could, may, will, would, might, must, should, cannot,\n",
      "Nearest to see: include, but, looping, references, according, aerosol, layman, belonged,\n",
      "Nearest to only: always, irina, tapped, unresolved, first, dumpster, save, patricians,\n",
      "Nearest to s: isbn, nai, heim, listener, childbirth, macrovision, and, spongebob,\n",
      "Nearest to five: four, seven, six, eight, three, zero, nine, two,\n",
      "Nearest to no: little, wound, responsa, cosmo, salamander, innate, coachella, cken,\n",
      "Nearest to will: would, could, can, may, should, might, must, cannot,\n",
      "Nearest to or: and, than, misquoted, polypropylene, ubu, while, venomous, brennan,\n",
      "Nearest to in: within, during, on, until, between, at, throughout, from,\n",
      "Nearest to after: before, during, when, despite, following, while, though, throughout,\n",
      "Nearest to such: well, these, known, perp, ketamine, defined, follows, regarded,\n",
      "Nearest to into: through, from, danse, dipoles, within, over, off, around,\n",
      "Nearest to all: every, both, many, various, several, contemporaneous, beatle, each,\n",
      "Nearest to th: bc, four, bce, rd, five, six, sulu, eight,\n",
      "Nearest to i: ii, you, we, iv, iii, gripped, they, adys,\n",
      "Average loss at step 82000 : 3.40598753494\n",
      "Average loss at step 84000 : 3.40996792805\n",
      "Average loss at step 86000 : 3.38564285412\n",
      "Average loss at step 88000 : 3.35140444106\n",
      "Average loss at step 90000 : 3.3640063504\n",
      "Nearest to world: stereotype, stalin, contest, spleen, country, millionth, reinsurance, borman,\n",
      "Nearest to can: could, may, will, would, might, must, cannot, should,\n",
      "Nearest to see: references, external, aerosol, litt, belonged, include, pad, list,\n",
      "Nearest to only: irina, always, no, even, sindhu, never, dumpster, omnibus,\n",
      "Nearest to s: isbn, footnotes, whose, kilobyte, plugging, his, rennie, cholas,\n",
      "Nearest to five: eight, four, seven, three, six, nine, two, zero,\n",
      "Nearest to no: little, any, always, responsa, only, wound, cosmo, salamander,\n",
      "Nearest to will: would, could, can, might, may, should, must, cannot,\n",
      "Nearest to or: and, than, irrealism, including, trident, ubu, waas, but,\n",
      "Nearest to in: within, during, under, at, jazeera, of, around, near,\n",
      "Nearest to after: before, during, when, despite, while, until, within, for,\n",
      "Nearest to such: these, known, well, perp, many, ketamine, defined, follows,\n",
      "Nearest to into: through, from, danse, dipoles, off, within, down, stylized,\n",
      "Nearest to all: many, every, several, both, some, beatle, various, any,\n",
      "Nearest to th: rd, eight, bce, bc, seven, one, six, four,\n",
      "Nearest to i: ii, we, you, iii, iv, t, gripped, g,\n",
      "Average loss at step 92000 : 3.39335673702\n",
      "Average loss at step 94000 : 3.25147997573\n",
      "Average loss at step 96000 : 3.35597524786\n",
      "Average loss at step 98000 : 3.23925827301\n",
      "Average loss at step 100000 : 3.35546749514\n",
      "Nearest to world: contest, ambitious, country, borman, rabindranath, spleen, kronecker, millionth,\n",
      "Nearest to can: could, may, will, would, must, should, cannot, might,\n",
      "Nearest to see: references, aerosol, litt, refer, external, slang, list, belonged,\n",
      "Nearest to only: never, irina, even, dumpster, halpin, always, puff, tapped,\n",
      "Nearest to s: whose, nai, his, isbn, the, macrovision, tica, wherein,\n",
      "Nearest to five: four, seven, six, eight, three, nine, two, zero,\n",
      "Nearest to no: little, any, cosmo, responsa, wound, innate, coachella, detail,\n",
      "Nearest to will: would, could, can, may, might, must, should, cannot,\n",
      "Nearest to or: and, than, ubu, polypropylene, like, irrealism, brennan, stephan,\n",
      "Nearest to in: during, within, until, on, from, at, throughout, of,\n",
      "Nearest to after: before, during, when, despite, until, following, through, while,\n",
      "Nearest to such: well, known, these, perp, many, ketamine, defined, follows,\n",
      "Nearest to into: through, from, dipoles, off, danse, within, around, out,\n",
      "Nearest to all: every, many, several, various, some, these, both, any,\n",
      "Nearest to th: rd, bc, sulu, bce, six, cir, mph, fourth,\n",
      "Nearest to i: ii, we, you, iv, iii, they, gripped, never,\n"
     ]
    }
   ],
   "source": [
    "num_steps = 100001\n",
    "\n",
    "with tf.Session(graph=graph) as session:\n",
    "  tf.initialize_all_variables().run()\n",
    "  print \"Initialized\"\n",
    "  average_loss = 0\n",
    "  for step in xrange(num_steps):\n",
    "    batch_data, batch_labels = generate_batch(\n",
    "      batch_size, num_skips, skip_window)\n",
    "    feed_dict = {train_dataset : batch_data, train_labels : batch_labels}\n",
    "    _, l = session.run([optimizer, loss], feed_dict=feed_dict)\n",
    "    average_loss += l\n",
    "    if step % 2000 == 0:\n",
    "      if step > 0:\n",
    "        average_loss = average_loss / 2000\n",
    "      # The average loss is an estimate of the loss over the last 2000 batches.\n",
    "      print \"Average loss at step\", step, \":\", average_loss\n",
    "      average_loss = 0\n",
    "    # note that this is expensive (~20% slowdown if computed every 500 steps)\n",
    "    if step % 10000 == 0:\n",
    "      sim = similarity.eval()\n",
    "      for i in xrange(valid_size):\n",
    "        valid_word = reverse_dictionary[valid_examples[i]]\n",
    "        top_k = 8 # number of nearest neighbors\n",
    "        nearest = (-sim[i, :]).argsort()[1:top_k+1]\n",
    "        log = \"Nearest to %s:\" % valid_word\n",
    "        for k in xrange(top_k):\n",
    "          close_word = reverse_dictionary[nearest[k]]\n",
    "          log = \"%s %s,\" % (log, close_word)\n",
    "        print log\n",
    "  final_embeddings = normalized_embeddings.eval()"
   ]
  },
  {
   "cell_type": "code",
   "execution_count": 10,
   "metadata": {
    "cellView": "both",
    "colab": {
     "autoexec": {
      "startup": false,
      "wait_interval": 0
     }
    },
    "colab_type": "code",
    "collapsed": true,
    "id": "jjJXYA_XzV79"
   },
   "outputs": [],
   "source": [
    "num_points = 400\n",
    "\n",
    "tsne = TSNE(perplexity=30, n_components=2, init='pca', n_iter=5000)\n",
    "two_d_embeddings = tsne.fit_transform(final_embeddings[1:num_points+1, :])"
   ]
  },
  {
   "cell_type": "code",
   "execution_count": 11,
   "metadata": {
    "cellView": "both",
    "colab": {
     "autoexec": {
      "startup": false,
      "wait_interval": 0
     },
     "output_extras": [
      {
       "item_id": 1
      }
     ]
    },
    "colab_type": "code",
    "collapsed": false,
    "executionInfo": {
     "elapsed": 4763,
     "status": "ok",
     "timestamp": 1445965465525,
     "user": {
      "color": "#1FA15D",
      "displayName": "Vincent Vanhoucke",
      "isAnonymous": false,
      "isMe": true,
      "permissionId": "05076109866853157986",
      "photoUrl": "//lh6.googleusercontent.com/-cCJa7dTDcgQ/AAAAAAAAAAI/AAAAAAAACgw/r2EZ_8oYer4/s50-c-k-no/photo.jpg",
      "sessionId": "2f1ffade4c9f20de",
      "userId": "102167687554210253930"
     },
     "user_tz": 420
    },
    "id": "o_e0D_UezcDe",
    "outputId": "df22e4a5-e8ec-4e5e-d384-c6cf37c68c34"
   },
   "outputs": [],
   "source": [
    "def plot(embeddings, labels):\n",
    "  assert embeddings.shape[0] >= len(labels), 'More labels than embeddings'\n",
    "  pylab.figure(figsize=(15,15))  # in inches\n",
    "  for i, label in enumerate(labels):\n",
    "    x, y = embeddings[i,:]\n",
    "    pylab.scatter(x, y)\n",
    "    pylab.annotate(label, xy=(x, y), xytext=(5, 2), textcoords='offset points',\n",
    "                   ha='right', va='bottom')\n",
    "  pylab.show()\n",
    "\n",
    "words = [reverse_dictionary[i] for i in xrange(1, num_points+1)]\n",
    "plot(two_d_embeddings, words)"
   ]
  },
  {
   "cell_type": "markdown",
   "metadata": {
    "colab_type": "text",
    "id": "QB5EFrBnpNnc"
   },
   "source": [
    "---\n",
    "\n",
    "Problem\n",
    "-------\n",
    "\n",
    "An alternative to Word2Vec is called [CBOW](http://arxiv.org/abs/1301.3781) (Continuous Bag of Words). In the CBOW model, instead of predicting a context word from a word vector, you predict a word from the sum of all the word vectors in its context. Implement and evaluate a CBOW model trained on the text8 dataset.\n",
    "\n",
    "---"
   ]
  },
  {
   "cell_type": "code",
   "execution_count": 13,
   "metadata": {
    "cellView": "both",
    "colab": {
     "autoexec": {
      "startup": false,
      "wait_interval": 0
     },
     "output_extras": [
      {
       "item_id": 1
      }
     ]
    },
    "colab_type": "code",
    "collapsed": false,
    "executionInfo": {
     "elapsed": 113,
     "status": "ok",
     "timestamp": 1445964901989,
     "user": {
      "color": "#1FA15D",
      "displayName": "Vincent Vanhoucke",
      "isAnonymous": false,
      "isMe": true,
      "permissionId": "05076109866853157986",
      "photoUrl": "//lh6.googleusercontent.com/-cCJa7dTDcgQ/AAAAAAAAAAI/AAAAAAAACgw/r2EZ_8oYer4/s50-c-k-no/photo.jpg",
      "sessionId": "2f1ffade4c9f20de",
      "userId": "102167687554210253930"
     },
     "user_tz": 420
    },
    "id": "w9APjA-zmfjV",
    "outputId": "67cccb02-cdaf-4e47-d489-43bcc8d57bb8"
   },
   "outputs": [
    {
     "name": "stdout",
     "output_type": "stream",
     "text": [
      "6 -> 12\n",
      "a -> as\n",
      "195 -> 12\n",
      "term -> as\n",
      "5239 -> 12\n",
      "anarchism -> as\n",
      "3084 -> 12\n",
      "originated -> as\n",
      "2 -> 6\n",
      "of -> a\n",
      "12 -> 6\n",
      "as -> a\n",
      "195 -> 6\n",
      "term -> a\n",
      "3084 -> 6\n",
      "originated -> a\n"
     ]
    }
   ],
   "source": [
    "data_index = 0\n",
    "\n",
    "def generate_batch_bow(batch_size, num_skips, skip_window):\n",
    "  global data_index\n",
    "  assert batch_size % num_skips == 0\n",
    "  assert num_skips <= 2 * skip_window\n",
    "  batch = np.ndarray(shape=(batch_size), dtype=np.int32)\n",
    "  labels = np.ndarray(shape=(batch_size, 1), dtype=np.int32)\n",
    "  span = 2 * skip_window + 1 # [ skip_window target skip_window ]\n",
    "  buffer = collections.deque(maxlen=span)\n",
    "  for _ in range(span):\n",
    "    buffer.append(data[data_index])\n",
    "    data_index = (data_index + 1) % len(data)\n",
    "  for i in range(batch_size / num_skips):\n",
    "    target = skip_window  # target label at the center of the buffer\n",
    "    targets_to_avoid = [ skip_window ]\n",
    "    for j in range(num_skips):\n",
    "      while target in targets_to_avoid:\n",
    "        target = random.randint(0, span - 1)\n",
    "      targets_to_avoid.append(target)\n",
    "      batch[i * num_skips + j] = buffer[target]\n",
    "      labels[i * num_skips + j, 0] = buffer[skip_window]\n",
    "    buffer.append(data[data_index])\n",
    "    data_index = (data_index + 1) % len(data)\n",
    "  return batch, labels\n",
    "\n",
    "batch, labels = generate_batch_bow(batch_size=8, num_skips=4, skip_window=2)\n",
    "for i in range(8):\n",
    "  print batch[i], '->', labels[i, 0]\n",
    "  print reverse_dictionary[batch[i]], '->', reverse_dictionary[labels[i, 0]]"
   ]
  },
  {
   "cell_type": "code",
   "execution_count": 14,
   "metadata": {
    "cellView": "both",
    "colab": {
     "autoexec": {
      "startup": false,
      "wait_interval": 0
     }
    },
    "colab_type": "code",
    "collapsed": true,
    "id": "8pQKsV4Vwlzy"
   },
   "outputs": [],
   "source": [
    "batch_size = 128\n",
    "embedding_size = 128 # Dimension of the embedding vector.\n",
    "skip_window = 2 # How many words to consider left and right.\n",
    "num_skips = 4 # How many times to reuse an input to generate a label.\n",
    "# We pick a random validation set to sample nearest neighbors. here we limit the\n",
    "# validation samples to the words that have a low numeric ID, which by\n",
    "# construction are also the most frequent. \n",
    "valid_size = 16 # Random set of words to evaluate similarity on.\n",
    "valid_window = 100 # Only pick dev samples in the head of the distribution.\n",
    "valid_examples = np.array(random.sample(xrange(valid_window), valid_size))\n",
    "num_sampled = 64 # Number of negative examples to sample.\n",
    "\n",
    "graph = tf.Graph()\n",
    "\n",
    "with graph.as_default():\n",
    "\n",
    "  # Input data.\n",
    "  train_dataset = tf.placeholder(tf.int32, shape=[batch_size])\n",
    "  train_labels = tf.placeholder(tf.int32, shape=[batch_size, 1])\n",
    "  valid_dataset = tf.constant(valid_examples, dtype=tf.int32)\n",
    "  \n",
    "  # Variables.\n",
    "  embeddings = tf.Variable(\n",
    "    tf.random_uniform([vocabulary_size, embedding_size], -1.0, 1.0))\n",
    "  softmax_weights = tf.Variable(\n",
    "    tf.truncated_normal([vocabulary_size, embedding_size],\n",
    "                         stddev=1.0 / math.sqrt(embedding_size)))\n",
    "  softmax_biases = tf.Variable(tf.zeros([vocabulary_size]))\n",
    "  \n",
    "  # Model.\n",
    "  # Look up embeddings for inputs.\n",
    "  embed = tf.nn.embedding_lookup(embeddings, train_dataset)\n",
    "  # Compute the softmax loss, using a sample of the negative labels each time.\n",
    "  loss = tf.reduce_mean(\n",
    "    tf.nn.sampled_softmax_loss(softmax_weights, softmax_biases, embed,\n",
    "                               train_labels, num_sampled, vocabulary_size))\n",
    "\n",
    "  # Optimizer.\n",
    "  optimizer = tf.train.AdagradOptimizer(1.0).minimize(loss)\n",
    "  \n",
    "  # Compute the similarity between minibatch examples and all embeddings.\n",
    "  # We use the cosine distance:\n",
    "  norm = tf.sqrt(tf.reduce_sum(tf.square(embeddings), 1, keep_dims=True))\n",
    "  normalized_embeddings = embeddings / norm\n",
    "  valid_embeddings = tf.nn.embedding_lookup(\n",
    "    normalized_embeddings, valid_dataset)\n",
    "  similarity = tf.matmul(valid_embeddings, tf.transpose(normalized_embeddings))"
   ]
  },
  {
   "cell_type": "code",
   "execution_count": 15,
   "metadata": {
    "cellView": "both",
    "colab": {
     "autoexec": {
      "startup": false,
      "wait_interval": 0
     },
     "output_extras": [
      {
       "item_id": 23
      },
      {
       "item_id": 48
      },
      {
       "item_id": 61
      }
     ]
    },
    "colab_type": "code",
    "collapsed": false,
    "executionInfo": {
     "elapsed": 436189,
     "status": "ok",
     "timestamp": 1445965429787,
     "user": {
      "color": "#1FA15D",
      "displayName": "Vincent Vanhoucke",
      "isAnonymous": false,
      "isMe": true,
      "permissionId": "05076109866853157986",
      "photoUrl": "//lh6.googleusercontent.com/-cCJa7dTDcgQ/AAAAAAAAAAI/AAAAAAAACgw/r2EZ_8oYer4/s50-c-k-no/photo.jpg",
      "sessionId": "2f1ffade4c9f20de",
      "userId": "102167687554210253930"
     },
     "user_tz": 420
    },
    "id": "1bQFGceBxrWW",
    "outputId": "5ebd6d9a-33c6-4bcd-bf6d-252b0b6055e4"
   },
   "outputs": [
    {
     "name": "stdout",
     "output_type": "stream",
     "text": [
      "Initialized\n",
      "Average loss at step 0 : 8.11657142639\n",
      "Nearest to people: symbolism, reticulum, tories, richard, lo, mahathir, anglophones, piety,\n",
      "Nearest to states: health, vega, fleet, brahmi, gourmet, eisenach, brahui, aleutian,\n",
      "Nearest to which: cgpm, miranda, vulnerability, vault, allegorical, unencumbered, bowdoin, qaeda,\n",
      "Nearest to over: astrophysicists, afraid, upward, bonhomme, kegan, masculist, ansbach, cfb,\n",
      "Nearest to six: symphonic, cahn, deposed, chorale, regulus, daugava, parser, crucible,\n",
      "Nearest to some: chained, cation, giacomo, coiled, translucent, bridge, earths, eapc,\n",
      "Nearest to than: strategists, temperance, bocks, dde, comintern, strassman, clive, irregularities,\n",
      "Nearest to between: erg, judaica, deceive, supremacy, computational, dougal, cache, dedicate,\n",
      "Nearest to up: grotesque, timurid, mideast, fresh, synchronised, vapors, pneumonic, vlaamse,\n",
      "Nearest to it: downy, bulging, homomorphism, polishing, discern, degrees, isotopic, lachaise,\n",
      "Nearest to if: cataloguing, frederick, chromatids, lla, supermodel, compaor, mobilized, attained,\n",
      "Nearest to other: nigeria, northward, americium, concerts, humayun, ignores, maka, arabic,\n",
      "Nearest to from: devastated, winsor, thucydides, dickie, hierarchically, filter, horseman, rmi,\n",
      "Nearest to use: yahoo, pundits, creature, dk, xa, camilo, thrax, goshen,\n",
      "Nearest to that: alumnus, devil, irl, slaps, soundtrack, zef, liquor, billboards,\n",
      "Nearest to about: decimals, eelam, marsupial, depopulation, eiga, irritate, backlash, judicious,\n",
      "Average loss at step 2000 : 4.49007314306\n",
      "Average loss at step 4000 : 4.117008012\n",
      "Average loss at step 6000 : 3.92349386539\n",
      "Average loss at step 8000 : 3.92411762029\n",
      "Average loss at step 10000 : 3.88532440746\n",
      "Nearest to people: rebus, tories, patent, symbolism, process, reticulum, feasts, histological,\n",
      "Nearest to states: health, fall, brahui, poirot, fleet, midtown, exchange, via,\n",
      "Nearest to which: interstitial, coincides, rattus, vault, allegorical, gaseous, beginnings, cgpm,\n",
      "Nearest to over: astrophysicists, ansbach, upward, bonhomme, abbe, atheromatous, kegan, visigoths,\n",
      "Nearest to six: four, eight, five, seven, nine, three, zero, two,\n",
      "Nearest to some: chained, cation, coolidge, eapc, coiled, many, gaines, tia,\n",
      "Nearest to than: or, strategists, rite, improperly, reach, climates, temperance, quaid,\n",
      "Nearest to between: judaica, geraldine, erg, deceive, nne, ven, dumfries, judaic,\n",
      "Nearest to up: timurid, grotesque, menstrual, fresh, mideast, tenses, shouts, ubiquitous,\n",
      "Nearest to it: he, downy, not, conflagration, pantheon, fry, vodafone, this,\n",
      "Nearest to if: cataloguing, endow, supermodel, crank, lla, motivation, mobilized, chromatids,\n",
      "Nearest to other: arabic, nigeria, headphones, applications, codepoint, northward, bretons, coaxial,\n",
      "Nearest to from: of, with, at, on, for, cub, enigmas, devastated,\n",
      "Nearest to use: revolutionary, creature, pundits, unify, overtaken, anglorum, xa, leaders,\n",
      "Nearest to that: what, simplex, though, transcription, distributed, not, periodicity, uploaded,\n",
      "Nearest to about: eelam, depopulation, decimals, eiga, equatorial, colonia, rural, census,\n",
      "Average loss at step 12000 : 3.86537372899\n",
      "Average loss at step 14000 : 3.83845543121\n",
      "Average loss at step 16000 : 3.74088821363\n",
      "Average loss at step 18000 : 3.82111779505\n",
      "Average loss at step 20000 : 3.79390892041\n",
      "Nearest to people: tories, years, rebus, process, patent, gto, kwanzaa, valor,\n",
      "Nearest to states: brahui, health, fleet, princeto, kvass, eisenach, exchange, letter,\n",
      "Nearest to which: that, this, it, pepe, but, prank, bends, atmosphere,\n",
      "Nearest to over: at, abbe, ptr, federico, astrophysicists, macs, hunan, presume,\n",
      "Nearest to six: five, four, seven, eight, three, zero, nine, one,\n",
      "Nearest to some: many, other, all, several, these, cation, max, their,\n",
      "Nearest to than: reach, clive, rite, fender, or, dougherty, nsted, irregularities,\n",
      "Nearest to between: judaica, with, booting, geraldine, dumfries, classicism, nne, of,\n",
      "Nearest to up: menstrual, out, shouts, timurid, penthouse, mideast, temperate, prevailing,\n",
      "Nearest to it: this, which, he, there, they, transcription, that, fry,\n",
      "Nearest to if: cataloguing, lorica, crank, endow, exported, capitan, climb, motorways,\n",
      "Nearest to other: many, some, these, applications, nigeria, mcpherson, choruses, arabic,\n",
      "Nearest to from: into, in, by, at, with, belonging, on, abdomen,\n",
      "Nearest to use: overtaken, unify, hello, revolutionary, pundits, leaders, replicated, admission,\n",
      "Nearest to that: which, this, it, but, when, prokaryotic, hayling, not,\n",
      "Nearest to about: decimals, depopulation, equatorial, could, eelam, irritate, colonia, travel,\n",
      "Average loss at step 22000 : 3.72897910047\n",
      "Average loss at step 24000 : 3.78854184854\n",
      "Average loss at step 26000 : 3.62843551773\n",
      "Average loss at step 28000 : 3.59316548848\n",
      "Average loss at step 30000 : 3.63360769266\n",
      "Nearest to people: tories, those, converted, gto, histological, rebus, years, chaste,\n",
      "Nearest to states: health, brahui, kvass, partying, eisenach, fall, kingdom, minden,\n",
      "Nearest to which: that, it, also, this, purported, basileus, daytona, utopian,\n",
      "Nearest to over: at, astrophysicists, ostrava, cernunnos, from, abbe, culprits, ptr,\n",
      "Nearest to six: eight, five, seven, three, nine, zero, four, two,\n",
      "Nearest to some: many, several, other, these, all, cation, most, the,\n",
      "Nearest to than: or, reach, rite, constraint, themis, more, sauron, dde,\n",
      "Nearest to between: with, judaica, dumfries, geraldine, wftu, ven, galtieri, classicism,\n",
      "Nearest to up: out, menstrual, shouts, penthouse, illuminate, carrots, mideast, alphege,\n",
      "Nearest to it: he, this, there, they, that, which, novgorod, macrovision,\n",
      "Nearest to if: when, cataloguing, climb, lorica, hunting, motorways, platt, because,\n",
      "Nearest to other: many, these, some, several, applications, are, different, nigeria,\n",
      "Nearest to from: into, on, at, of, through, during, in, over,\n",
      "Nearest to use: unify, overtaken, admission, hello, rescinded, gi, leaders, blackburn,\n",
      "Nearest to that: which, it, when, this, but, isma, who, what,\n",
      "Nearest to about: colonia, irritate, decimals, depopulation, experimentation, clitoris, travel, forehead,\n",
      "Average loss at step 32000 : 3.66841245067\n",
      "Average loss at step 34000 : 3.74880343908\n",
      "Average loss at step 36000 : 3.68612128204\n",
      "Average loss at step 38000 : 3.71206919074\n",
      "Average loss at step 40000 : 3.67925548753\n",
      "Nearest to people: those, rebus, fitted, recognizing, tories, converted, expatriates, airstream,\n",
      "Nearest to states: kingdom, partying, container, wynette, eisenach, amplify, brahui, air,\n",
      "Nearest to which: that, also, it, this, utopian, datagrams, but, plundered,\n",
      "Nearest to over: astrophysicists, at, abbe, transmutation, ten, ibn, ostrava, ptr,\n",
      "Nearest to six: four, seven, five, eight, three, nine, two, one,\n",
      "Nearest to some: many, these, several, most, their, other, those, all,\n",
      "Nearest to than: or, rite, more, reach, fermionic, fender, sauron, much,\n",
      "Nearest to between: judaica, ven, dumfries, geraldine, wftu, nicomachean, absurdum, galtieri,\n",
      "Nearest to up: out, penthouse, shouts, menstrual, back, solzhenitsyn, illuminate, topologically,\n",
      "Nearest to it: he, this, she, which, there, but, vodafone, not,\n",
      "Nearest to if: not, where, because, when, frustrating, however, cataloguing, capitan,\n",
      "Nearest to other: many, several, these, various, different, some, are, were,\n",
      "Nearest to from: into, through, of, by, chipset, playable, during, in,\n",
      "Nearest to use: admission, unify, comprising, bind, overtaken, endnotes, datum, battle,\n",
      "Nearest to that: which, by, although, also, who, morphisms, however, isma,\n",
      "Nearest to about: colonia, decimals, experimentation, irritate, barcode, clitoris, blackmail, harriet,\n",
      "Average loss at step 42000 : 3.67675692689\n",
      "Average loss at step 44000 : 3.70468355411\n",
      "Average loss at step 46000 : 3.66707186508\n",
      "Average loss at step 48000 : 3.74981274807\n",
      "Average loss at step 50000 : 3.65360650051\n",
      "Nearest to people: tories, jews, rebus, those, converted, recognizing, dbv, expatriates,\n",
      "Nearest to states: kingdom, partying, air, container, kmaq, eisenach, minden, condemn,\n",
      "Nearest to which: that, this, but, also, where, who, it, although,\n",
      "Nearest to over: after, at, in, from, into, with, astrophysicists, ostrava,\n",
      "Nearest to six: seven, four, five, eight, nine, three, zero, two,\n",
      "Nearest to some: many, several, these, their, other, all, those, the,\n",
      "Nearest to than: reach, more, fermionic, kuo, rite, incendiary, isolationist, constraint,\n",
      "Nearest to between: with, from, geraldine, in, wftu, into, galtieri, nicomachean,\n",
      "Nearest to up: out, back, penthouse, down, menstrual, illuminate, wanted, alphege,\n",
      "Nearest to it: he, this, there, she, that, only, but, which,\n",
      "Nearest to if: because, where, when, though, that, not, peremptory, no,\n",
      "Nearest to other: many, several, these, various, some, their, different, kinds,\n",
      "Nearest to from: into, in, through, during, after, confidential, by, between,\n",
      "Nearest to use: approach, admission, rescinded, endnotes, colloidal, overtaken, sasaki, centre,\n",
      "Nearest to that: which, when, but, although, where, this, because, it,\n",
      "Nearest to about: barcode, five, experimentation, forehead, clitoris, decimals, travel, colonia,\n",
      "Average loss at step 52000 : 3.66683762878\n",
      "Average loss at step 54000 : 3.75605619016\n",
      "Average loss at step 56000 : 3.73601557726\n",
      "Average loss at step 58000 : 3.66097003973\n",
      "Average loss at step 60000 : 3.71678111398\n",
      "Nearest to people: those, jews, tories, rebus, countries, anarchists, fitted, recognizing,\n",
      "Nearest to states: kingdom, united, container, nations, us, kmaq, condemn, virtuosity,\n",
      "Nearest to which: that, also, this, and, where, it, but, phenotype,\n",
      "Nearest to over: ostrava, during, astrophysicists, through, after, ansbach, ten, demigod,\n",
      "Nearest to six: five, four, eight, seven, three, zero, nine, two,\n",
      "Nearest to some: many, these, several, most, all, various, both, their,\n",
      "Nearest to than: much, or, constraint, incendiary, kuo, even, anguish, isomorphisms,\n",
      "Nearest to between: with, from, in, chastity, dhamma, galtieri, nicomachean, ven,\n",
      "Nearest to up: out, back, penthouse, them, down, menstrual, plankton, alphege,\n",
      "Nearest to it: he, this, she, there, but, they, vodafone, which,\n",
      "Nearest to if: when, because, where, not, sorority, so, peremptory, that,\n",
      "Nearest to other: various, these, many, several, different, their, others, some,\n",
      "Nearest to from: into, through, between, since, in, on, during, with,\n",
      "Nearest to use: approach, admission, sasaki, range, endnotes, rescinded, caecilius, bind,\n",
      "Nearest to that: which, while, what, but, when, although, preach, however,\n",
      "Nearest to about: irritate, decimals, barcode, bargain, sporting, tyndale, colossus, cpa,\n",
      "Average loss at step 62000 : 3.70199193758\n",
      "Average loss at step 64000 : 3.71555312383\n",
      "Average loss at step 66000 : 3.53335530254\n",
      "Average loss at step 68000 : 3.49930596662\n",
      "Average loss at step 70000 : 3.68896893495\n",
      "Nearest to people: those, jews, countries, languages, yaum, corners, converted, rebus,\n",
      "Nearest to states: kingdom, nations, container, partying, cmu, kmaq, virgin, condemn,\n",
      "Nearest to which: that, it, who, this, but, what, these, also,\n",
      "Nearest to over: during, after, ten, under, through, before, targeting, ostrava,\n",
      "Nearest to six: seven, five, eight, four, three, zero, nine, two,\n",
      "Nearest to some: many, several, these, all, other, most, various, they,\n",
      "Nearest to than: or, but, kuo, anguish, and, incendiary, constraint, fermionic,\n",
      "Nearest to between: with, through, ven, from, since, infield, bernd, noa,\n",
      "Nearest to up: out, back, down, them, penthouse, shouts, alphege, him,\n",
      "Nearest to it: he, this, but, she, which, disadvantageous, only, not,\n",
      "Nearest to if: when, where, because, not, though, so, for, cataloguing,\n",
      "Nearest to other: various, different, many, these, some, their, several, haunt,\n",
      "Nearest to from: into, through, during, when, between, at, trs, dolphin,\n",
      "Nearest to use: sasaki, rescinded, caecilius, approach, range, endnotes, cause, imply,\n",
      "Nearest to that: which, where, this, while, however, because, but, what,\n",
      "Nearest to about: colossus, exhorted, operas, barcode, contexts, decimals, folklorist, rockwell,\n",
      "Average loss at step 72000 : 3.6013045882\n",
      "Average loss at step 74000 : 3.68795791155\n",
      "Average loss at step 76000 : 3.60125903118\n",
      "Average loss at step 78000 : 3.71867926788\n",
      "Average loss at step 80000 : 3.65016431889\n",
      "Nearest to people: those, them, yaum, jews, countries, languages, techno, recognizing,\n",
      "Nearest to states: kingdom, nations, container, partying, thirties, virgin, cmu, kmaq,\n",
      "Nearest to which: that, this, it, where, also, expansive, often, however,\n",
      "Nearest to over: ten, during, after, before, astrophysicists, targeting, through, hancock,\n",
      "Nearest to six: five, four, seven, eight, three, two, zero, nine,\n",
      "Nearest to some: many, several, these, all, both, certain, most, various,\n",
      "Nearest to than: or, much, affricates, constraint, fermionic, solute, tremendous, kuo,\n",
      "Nearest to between: with, in, since, galtieri, ven, from, within, through,\n",
      "Nearest to up: out, back, down, him, alphege, illuminate, muslim, shouts,\n",
      "Nearest to it: he, this, she, there, which, disadvantageous, that, they,\n",
      "Nearest to if: because, when, though, where, not, thus, then, t,\n",
      "Nearest to other: different, various, haunt, these, some, several, their, ischemia,\n",
      "Nearest to from: into, through, confidential, fusiliers, with, between, electronvolt, coexistence,\n",
      "Nearest to use: caecilius, rescinded, sasaki, sound, range, confession, abacus, approach,\n",
      "Nearest to that: which, however, though, what, when, pepe, although, because,\n",
      "Nearest to about: decimals, barcode, nevertheless, boadicea, links, gatherings, colossus, cpa,\n",
      "Average loss at step 82000 : 3.68805743152\n",
      "Average loss at step 84000 : 3.63837965471\n",
      "Average loss at step 86000 : 3.62949642175\n",
      "Average loss at step 88000 : 3.57386442223\n",
      "Average loss at step 90000 : 3.58370949155\n",
      "Nearest to people: jews, them, airstream, those, centrality, fitted, we, gto,\n",
      "Nearest to states: kingdom, nations, thirties, amplify, kmaq, partying, container, virgin,\n",
      "Nearest to which: that, this, but, however, it, also, datagrams, attest,\n",
      "Nearest to over: through, during, within, ten, under, individuality, across, between,\n",
      "Nearest to six: three, seven, five, four, eight, nine, two, one,\n",
      "Nearest to some: many, several, both, all, most, these, various, other,\n",
      "Nearest to than: or, much, even, modernity, constraint, duma, anguish, like,\n",
      "Nearest to between: with, within, chastity, infield, sintering, wftu, over, from,\n",
      "Nearest to up: out, back, them, down, him, const, shouts, alphege,\n",
      "Nearest to it: he, this, she, there, only, they, but, which,\n",
      "Nearest to if: when, where, because, so, though, although, while, not,\n",
      "Nearest to other: various, different, haunt, these, several, many, certain, some,\n",
      "Nearest to from: into, through, in, during, on, under, since, for,\n",
      "Nearest to use: sasaki, rossellini, provide, abacus, sound, form, range, imply,\n",
      "Nearest to that: which, however, this, what, also, although, but, chagos,\n",
      "Nearest to about: cpa, barcode, sees, over, from, gatherings, entomologist, depopulation,\n",
      "Average loss at step 92000 : 3.65447391769\n",
      "Average loss at step 94000 : 3.68504850334\n",
      "Average loss at step 96000 : 3.63737006634\n",
      "Average loss at step 98000 : 3.70862328774\n",
      "Average loss at step 100000 : 3.65963415909\n",
      "Nearest to people: countries, those, jews, apr, fitted, them, languages, rebus,\n",
      "Nearest to states: kingdom, nations, united, thirties, kmaq, cmu, container, partying,\n",
      "Nearest to which: that, it, what, this, grievances, also, however, who,\n",
      "Nearest to over: ten, around, tychonoff, under, within, before, during, dd,\n",
      "Nearest to six: eight, seven, four, five, nine, zero, three, two,\n",
      "Nearest to some: many, several, these, most, certain, both, various, all,\n",
      "Nearest to than: or, much, even, modernity, fermionic, constraint, tremendous, duma,\n",
      "Nearest to between: within, through, with, ven, chastity, granville, nicomachean, aisles,\n",
      "Nearest to up: out, back, down, them, alphege, off, shouts, karlheinz,\n",
      "Nearest to it: he, this, she, there, only, they, which, but,\n",
      "Nearest to if: when, where, though, so, because, however, although, must,\n",
      "Nearest to other: various, different, these, many, haunt, benchmarks, several, crucially,\n",
      "Nearest to from: through, into, including, wetter, on, yuan, citeseer, flourishes,\n",
      "Nearest to use: sasaki, release, form, confession, rossellini, sound, nepotism, date,\n",
      "Nearest to that: which, however, where, what, chagos, although, when, this,\n",
      "Nearest to about: depopulation, soares, clitoris, edouard, on, contexts, over, unanswered,\n"
     ]
    }
   ],
   "source": [
    "num_steps = 100001\n",
    "\n",
    "with tf.Session(graph=graph) as session:\n",
    "  tf.initialize_all_variables().run()\n",
    "  print \"Initialized\"\n",
    "  average_loss = 0\n",
    "  for step in xrange(num_steps):\n",
    "    batch_data, batch_labels = generate_batch_bow(\n",
    "      batch_size, num_skips, skip_window)\n",
    "    feed_dict = {train_dataset : batch_data, train_labels : batch_labels}\n",
    "    _, l = session.run([optimizer, loss], feed_dict=feed_dict)\n",
    "    average_loss += l\n",
    "    if step % 2000 == 0:\n",
    "      if step > 0:\n",
    "        average_loss = average_loss / 2000\n",
    "      # The average loss is an estimate of the loss over the last 2000 batches.\n",
    "      print \"Average loss at step\", step, \":\", average_loss\n",
    "      average_loss = 0\n",
    "    # note that this is expensive (~20% slowdown if computed every 500 steps)\n",
    "    if step % 10000 == 0:\n",
    "      sim = similarity.eval()\n",
    "      for i in xrange(valid_size):\n",
    "        valid_word = reverse_dictionary[valid_examples[i]]\n",
    "        top_k = 8 # number of nearest neighbors\n",
    "        nearest = (-sim[i, :]).argsort()[1:top_k+1]\n",
    "        log = \"Nearest to %s:\" % valid_word\n",
    "        for k in xrange(top_k):\n",
    "          close_word = reverse_dictionary[nearest[k]]\n",
    "          log = \"%s %s,\" % (log, close_word)\n",
    "        print log\n",
    "  final_embeddings = normalized_embeddings.eval()"
   ]
  },
  {
   "cell_type": "code",
   "execution_count": 16,
   "metadata": {
    "cellView": "both",
    "colab": {
     "autoexec": {
      "startup": false,
      "wait_interval": 0
     }
    },
    "colab_type": "code",
    "collapsed": true,
    "id": "jjJXYA_XzV79"
   },
   "outputs": [],
   "source": [
    "num_points = 400\n",
    "\n",
    "tsne = TSNE(perplexity=30, n_components=2, init='pca', n_iter=5000)\n",
    "two_d_embeddings = tsne.fit_transform(final_embeddings[1:num_points+1, :])"
   ]
  },
  {
   "cell_type": "code",
   "execution_count": 17,
   "metadata": {
    "cellView": "both",
    "colab": {
     "autoexec": {
      "startup": false,
      "wait_interval": 0
     },
     "output_extras": [
      {
       "item_id": 1
      }
     ]
    },
    "colab_type": "code",
    "collapsed": false,
    "executionInfo": {
     "elapsed": 4763,
     "status": "ok",
     "timestamp": 1445965465525,
     "user": {
      "color": "#1FA15D",
      "displayName": "Vincent Vanhoucke",
      "isAnonymous": false,
      "isMe": true,
      "permissionId": "05076109866853157986",
      "photoUrl": "//lh6.googleusercontent.com/-cCJa7dTDcgQ/AAAAAAAAAAI/AAAAAAAACgw/r2EZ_8oYer4/s50-c-k-no/photo.jpg",
      "sessionId": "2f1ffade4c9f20de",
      "userId": "102167687554210253930"
     },
     "user_tz": 420
    },
    "id": "o_e0D_UezcDe",
    "outputId": "df22e4a5-e8ec-4e5e-d384-c6cf37c68c34"
   },
   "outputs": [],
   "source": [
    "def plot(embeddings, labels):\n",
    "  assert embeddings.shape[0] >= len(labels), 'More labels than embeddings'\n",
    "  pylab.figure(figsize=(15,15))  # in inches\n",
    "  for i, label in enumerate(labels):\n",
    "    x, y = embeddings[i,:]\n",
    "    pylab.scatter(x, y)\n",
    "    pylab.annotate(label, xy=(x, y), xytext=(5, 2), textcoords='offset points',\n",
    "                   ha='right', va='bottom')\n",
    "  pylab.show()\n",
    "\n",
    "words = [reverse_dictionary[i] for i in xrange(1, num_points+1)]\n",
    "plot(two_d_embeddings, words)"
   ]
  },
  {
   "cell_type": "code",
   "execution_count": null,
   "metadata": {
    "collapsed": true
   },
   "outputs": [],
   "source": []
  }
 ],
 "metadata": {
  "colab": {
   "default_view": {},
   "name": "5_word2vec.ipynb",
   "provenance": [],
   "version": "0.3.2",
   "views": {}
  },
  "kernelspec": {
   "display_name": "Python 2",
   "language": "python",
   "name": "python2"
  },
  "language_info": {
   "codemirror_mode": {
    "name": "ipython",
    "version": 2
   },
   "file_extension": ".py",
   "mimetype": "text/x-python",
   "name": "python",
   "nbconvert_exporter": "python",
   "pygments_lexer": "ipython2",
   "version": "2.7.11"
  }
 },
 "nbformat": 4,
 "nbformat_minor": 0
}
